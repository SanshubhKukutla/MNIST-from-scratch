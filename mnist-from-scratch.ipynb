{
 "cells": [
  {
   "cell_type": "code",
   "execution_count": 1,
   "id": "880bc710",
   "metadata": {
    "_cell_guid": "b1076dfc-b9ad-4769-8c92-a6c4dae69d19",
    "_uuid": "8f2839f25d086af736a60e9eeb907d3b93b6e0e5",
    "execution": {
     "iopub.execute_input": "2023-11-12T19:15:32.840926Z",
     "iopub.status.busy": "2023-11-12T19:15:32.840133Z",
     "iopub.status.idle": "2023-11-12T19:15:33.213165Z",
     "shell.execute_reply": "2023-11-12T19:15:33.211895Z"
    },
    "papermill": {
     "duration": 0.381258,
     "end_time": "2023-11-12T19:15:33.215599",
     "exception": false,
     "start_time": "2023-11-12T19:15:32.834341",
     "status": "completed"
    },
    "tags": []
   },
   "outputs": [
    {
     "name": "stdout",
     "output_type": "stream",
     "text": [
      "/kaggle/input/digit-recognizer/sample_submission.csv\n",
      "/kaggle/input/digit-recognizer/train.csv\n",
      "/kaggle/input/digit-recognizer/test.csv\n"
     ]
    }
   ],
   "source": [
    "# This Python 3 environment comes with many helpful analytics libraries installed\n",
    "# It is defined by the kaggle/python Docker image: https://github.com/kaggle/docker-python\n",
    "# For example, here's several helpful packages to load\n",
    "\n",
    "import numpy as np # linear algebra\n",
    "import pandas as pd # data processing, CSV file I/O (e.g. pd.read_csv)\n",
    "from matplotlib import pyplot as plt\n",
    "\n",
    "# Input data files are available in the read-only \"../input/\" directory\n",
    "# For example, running this (by clicking run or pressing Shift+Enter) will list all files under the input directory\n",
    "\n",
    "import os\n",
    "for dirname, _, filenames in os.walk('/kaggle/input'):\n",
    "    for filename in filenames:\n",
    "        print(os.path.join(dirname, filename))\n",
    "\n",
    "# You can write up to 20GB to the current directory (/kaggle/working/) that gets preserved as output when you create a version using \"Save & Run All\" \n",
    "# You can also write temporary files to /kaggle/temp/, but they won't be saved outside of the current session"
   ]
  },
  {
   "cell_type": "code",
   "execution_count": 2,
   "id": "a460b9a6",
   "metadata": {
    "execution": {
     "iopub.execute_input": "2023-11-12T19:15:33.226982Z",
     "iopub.status.busy": "2023-11-12T19:15:33.225900Z",
     "iopub.status.idle": "2023-11-12T19:15:36.669729Z",
     "shell.execute_reply": "2023-11-12T19:15:36.668514Z"
    },
    "papermill": {
     "duration": 3.453328,
     "end_time": "2023-11-12T19:15:36.672699",
     "exception": false,
     "start_time": "2023-11-12T19:15:33.219371",
     "status": "completed"
    },
    "tags": []
   },
   "outputs": [],
   "source": [
    "data = pd.read_csv('/kaggle/input/digit-recognizer/train.csv')"
   ]
  },
  {
   "cell_type": "code",
   "execution_count": 3,
   "id": "6f479dcc",
   "metadata": {
    "execution": {
     "iopub.execute_input": "2023-11-12T19:15:36.681846Z",
     "iopub.status.busy": "2023-11-12T19:15:36.680836Z",
     "iopub.status.idle": "2023-11-12T19:15:36.707679Z",
     "shell.execute_reply": "2023-11-12T19:15:36.706509Z"
    },
    "papermill": {
     "duration": 0.033658,
     "end_time": "2023-11-12T19:15:36.709887",
     "exception": false,
     "start_time": "2023-11-12T19:15:36.676229",
     "status": "completed"
    },
    "tags": []
   },
   "outputs": [
    {
     "data": {
      "text/html": [
       "<div>\n",
       "<style scoped>\n",
       "    .dataframe tbody tr th:only-of-type {\n",
       "        vertical-align: middle;\n",
       "    }\n",
       "\n",
       "    .dataframe tbody tr th {\n",
       "        vertical-align: top;\n",
       "    }\n",
       "\n",
       "    .dataframe thead th {\n",
       "        text-align: right;\n",
       "    }\n",
       "</style>\n",
       "<table border=\"1\" class=\"dataframe\">\n",
       "  <thead>\n",
       "    <tr style=\"text-align: right;\">\n",
       "      <th></th>\n",
       "      <th>label</th>\n",
       "      <th>pixel0</th>\n",
       "      <th>pixel1</th>\n",
       "      <th>pixel2</th>\n",
       "      <th>pixel3</th>\n",
       "      <th>pixel4</th>\n",
       "      <th>pixel5</th>\n",
       "      <th>pixel6</th>\n",
       "      <th>pixel7</th>\n",
       "      <th>pixel8</th>\n",
       "      <th>...</th>\n",
       "      <th>pixel774</th>\n",
       "      <th>pixel775</th>\n",
       "      <th>pixel776</th>\n",
       "      <th>pixel777</th>\n",
       "      <th>pixel778</th>\n",
       "      <th>pixel779</th>\n",
       "      <th>pixel780</th>\n",
       "      <th>pixel781</th>\n",
       "      <th>pixel782</th>\n",
       "      <th>pixel783</th>\n",
       "    </tr>\n",
       "  </thead>\n",
       "  <tbody>\n",
       "    <tr>\n",
       "      <th>0</th>\n",
       "      <td>1</td>\n",
       "      <td>0</td>\n",
       "      <td>0</td>\n",
       "      <td>0</td>\n",
       "      <td>0</td>\n",
       "      <td>0</td>\n",
       "      <td>0</td>\n",
       "      <td>0</td>\n",
       "      <td>0</td>\n",
       "      <td>0</td>\n",
       "      <td>...</td>\n",
       "      <td>0</td>\n",
       "      <td>0</td>\n",
       "      <td>0</td>\n",
       "      <td>0</td>\n",
       "      <td>0</td>\n",
       "      <td>0</td>\n",
       "      <td>0</td>\n",
       "      <td>0</td>\n",
       "      <td>0</td>\n",
       "      <td>0</td>\n",
       "    </tr>\n",
       "    <tr>\n",
       "      <th>1</th>\n",
       "      <td>0</td>\n",
       "      <td>0</td>\n",
       "      <td>0</td>\n",
       "      <td>0</td>\n",
       "      <td>0</td>\n",
       "      <td>0</td>\n",
       "      <td>0</td>\n",
       "      <td>0</td>\n",
       "      <td>0</td>\n",
       "      <td>0</td>\n",
       "      <td>...</td>\n",
       "      <td>0</td>\n",
       "      <td>0</td>\n",
       "      <td>0</td>\n",
       "      <td>0</td>\n",
       "      <td>0</td>\n",
       "      <td>0</td>\n",
       "      <td>0</td>\n",
       "      <td>0</td>\n",
       "      <td>0</td>\n",
       "      <td>0</td>\n",
       "    </tr>\n",
       "    <tr>\n",
       "      <th>2</th>\n",
       "      <td>1</td>\n",
       "      <td>0</td>\n",
       "      <td>0</td>\n",
       "      <td>0</td>\n",
       "      <td>0</td>\n",
       "      <td>0</td>\n",
       "      <td>0</td>\n",
       "      <td>0</td>\n",
       "      <td>0</td>\n",
       "      <td>0</td>\n",
       "      <td>...</td>\n",
       "      <td>0</td>\n",
       "      <td>0</td>\n",
       "      <td>0</td>\n",
       "      <td>0</td>\n",
       "      <td>0</td>\n",
       "      <td>0</td>\n",
       "      <td>0</td>\n",
       "      <td>0</td>\n",
       "      <td>0</td>\n",
       "      <td>0</td>\n",
       "    </tr>\n",
       "    <tr>\n",
       "      <th>3</th>\n",
       "      <td>4</td>\n",
       "      <td>0</td>\n",
       "      <td>0</td>\n",
       "      <td>0</td>\n",
       "      <td>0</td>\n",
       "      <td>0</td>\n",
       "      <td>0</td>\n",
       "      <td>0</td>\n",
       "      <td>0</td>\n",
       "      <td>0</td>\n",
       "      <td>...</td>\n",
       "      <td>0</td>\n",
       "      <td>0</td>\n",
       "      <td>0</td>\n",
       "      <td>0</td>\n",
       "      <td>0</td>\n",
       "      <td>0</td>\n",
       "      <td>0</td>\n",
       "      <td>0</td>\n",
       "      <td>0</td>\n",
       "      <td>0</td>\n",
       "    </tr>\n",
       "    <tr>\n",
       "      <th>4</th>\n",
       "      <td>0</td>\n",
       "      <td>0</td>\n",
       "      <td>0</td>\n",
       "      <td>0</td>\n",
       "      <td>0</td>\n",
       "      <td>0</td>\n",
       "      <td>0</td>\n",
       "      <td>0</td>\n",
       "      <td>0</td>\n",
       "      <td>0</td>\n",
       "      <td>...</td>\n",
       "      <td>0</td>\n",
       "      <td>0</td>\n",
       "      <td>0</td>\n",
       "      <td>0</td>\n",
       "      <td>0</td>\n",
       "      <td>0</td>\n",
       "      <td>0</td>\n",
       "      <td>0</td>\n",
       "      <td>0</td>\n",
       "      <td>0</td>\n",
       "    </tr>\n",
       "  </tbody>\n",
       "</table>\n",
       "<p>5 rows × 785 columns</p>\n",
       "</div>"
      ],
      "text/plain": [
       "   label  pixel0  pixel1  pixel2  pixel3  pixel4  pixel5  pixel6  pixel7  \\\n",
       "0      1       0       0       0       0       0       0       0       0   \n",
       "1      0       0       0       0       0       0       0       0       0   \n",
       "2      1       0       0       0       0       0       0       0       0   \n",
       "3      4       0       0       0       0       0       0       0       0   \n",
       "4      0       0       0       0       0       0       0       0       0   \n",
       "\n",
       "   pixel8  ...  pixel774  pixel775  pixel776  pixel777  pixel778  pixel779  \\\n",
       "0       0  ...         0         0         0         0         0         0   \n",
       "1       0  ...         0         0         0         0         0         0   \n",
       "2       0  ...         0         0         0         0         0         0   \n",
       "3       0  ...         0         0         0         0         0         0   \n",
       "4       0  ...         0         0         0         0         0         0   \n",
       "\n",
       "   pixel780  pixel781  pixel782  pixel783  \n",
       "0         0         0         0         0  \n",
       "1         0         0         0         0  \n",
       "2         0         0         0         0  \n",
       "3         0         0         0         0  \n",
       "4         0         0         0         0  \n",
       "\n",
       "[5 rows x 785 columns]"
      ]
     },
     "execution_count": 3,
     "metadata": {},
     "output_type": "execute_result"
    }
   ],
   "source": [
    "data.head()"
   ]
  },
  {
   "cell_type": "code",
   "execution_count": 4,
   "id": "3a0de6d5",
   "metadata": {
    "execution": {
     "iopub.execute_input": "2023-11-12T19:15:36.719189Z",
     "iopub.status.busy": "2023-11-12T19:15:36.718830Z",
     "iopub.status.idle": "2023-11-12T19:15:37.501353Z",
     "shell.execute_reply": "2023-11-12T19:15:37.500154Z"
    },
    "papermill": {
     "duration": 0.790296,
     "end_time": "2023-11-12T19:15:37.503989",
     "exception": false,
     "start_time": "2023-11-12T19:15:36.713693",
     "status": "completed"
    },
    "tags": []
   },
   "outputs": [],
   "source": [
    "data = np.array(data)\n",
    "m, n = data.shape\n",
    "np.random.shuffle(data) # shuffle before splitting into dev and training sets\n",
    "\n",
    "data_dev = data[0:1000].T\n",
    "Y_dev = data_dev[0]\n",
    "X_dev = data_dev[1:n]\n",
    "X_dev = X_dev / 255.\n",
    "\n",
    "data_train = data[1000:m].T\n",
    "Y_train = data_train[0]\n",
    "X_train = data_train[1:n]\n",
    "X_train = X_train / 255.\n",
    "_,m_train = X_train.shape"
   ]
  },
  {
   "cell_type": "code",
   "execution_count": 5,
   "id": "9601d0f4",
   "metadata": {
    "execution": {
     "iopub.execute_input": "2023-11-12T19:15:37.513432Z",
     "iopub.status.busy": "2023-11-12T19:15:37.512706Z",
     "iopub.status.idle": "2023-11-12T19:15:37.525623Z",
     "shell.execute_reply": "2023-11-12T19:15:37.524649Z"
    },
    "papermill": {
     "duration": 0.020208,
     "end_time": "2023-11-12T19:15:37.528001",
     "exception": false,
     "start_time": "2023-11-12T19:15:37.507793",
     "status": "completed"
    },
    "tags": []
   },
   "outputs": [],
   "source": [
    "def init_params():\n",
    "    W1 = np.random.rand(10, 784) - 0.5\n",
    "    b1 = np.random.rand(10, 1) - 0.5\n",
    "    W2 = np.random.rand(10, 10) - 0.5\n",
    "    b2 = np.random.rand(10, 1) - 0.5\n",
    "    return W1, b1, W2, b2\n",
    "\n",
    "def ReLU(Z):\n",
    "    return np.maximum(Z, 0)\n",
    "\n",
    "def softmax(Z):\n",
    "    A = np.exp(Z) / sum(np.exp(Z))\n",
    "    return A\n",
    "    \n",
    "def forward_prop(W1, b1, W2, b2, X):\n",
    "    Z1 = W1.dot(X) + b1\n",
    "    A1 = ReLU(Z1)\n",
    "    Z2 = W2.dot(A1) + b2\n",
    "    A2 = softmax(Z2)\n",
    "    return Z1, A1, Z2, A2\n",
    "\n",
    "def ReLU_deriv(Z):\n",
    "    return Z > 0\n",
    "\n",
    "def one_hot(Y):\n",
    "    one_hot_Y = np.zeros((Y.size, Y.max() + 1))\n",
    "    one_hot_Y[np.arange(Y.size), Y] = 1\n",
    "    one_hot_Y = one_hot_Y.T\n",
    "    return one_hot_Y\n",
    "\n",
    "def backward_prop(Z1, A1, Z2, A2, W1, W2, X, Y):\n",
    "    one_hot_Y = one_hot(Y)\n",
    "    dZ2 = A2 - one_hot_Y\n",
    "    dW2 = 1 / m * dZ2.dot(A1.T)\n",
    "    db2 = 1 / m * np.sum(dZ2)\n",
    "    dZ1 = W2.T.dot(dZ2) * ReLU_deriv(Z1)\n",
    "    dW1 = 1 / m * dZ1.dot(X.T)\n",
    "    db1 = 1 / m * np.sum(dZ1)\n",
    "    return dW1, db1, dW2, db2\n",
    "\n",
    "def update_params(W1, b1, W2, b2, dW1, db1, dW2, db2, alpha):\n",
    "    W1 = W1 - alpha * dW1\n",
    "    b1 = b1 - alpha * db1    \n",
    "    W2 = W2 - alpha * dW2  \n",
    "    b2 = b2 - alpha * db2    \n",
    "    return W1, b1, W2, b2"
   ]
  },
  {
   "cell_type": "code",
   "execution_count": 6,
   "id": "e05e320d",
   "metadata": {
    "execution": {
     "iopub.execute_input": "2023-11-12T19:15:37.537852Z",
     "iopub.status.busy": "2023-11-12T19:15:37.536747Z",
     "iopub.status.idle": "2023-11-12T19:15:37.545303Z",
     "shell.execute_reply": "2023-11-12T19:15:37.544272Z"
    },
    "papermill": {
     "duration": 0.015766,
     "end_time": "2023-11-12T19:15:37.547589",
     "exception": false,
     "start_time": "2023-11-12T19:15:37.531823",
     "status": "completed"
    },
    "tags": []
   },
   "outputs": [],
   "source": [
    "def get_predictions(A2):\n",
    "    return np.argmax(A2, 0)\n",
    "\n",
    "def get_accuracy(predictions, Y):\n",
    "    print(predictions, Y)\n",
    "    return np.sum(predictions == Y) / Y.size\n",
    "\n",
    "def gradient_descent(X, Y, alpha, iterations):\n",
    "    W1, b1, W2, b2 = init_params()\n",
    "    for i in range(iterations):\n",
    "        Z1, A1, Z2, A2 = forward_prop(W1, b1, W2, b2, X)\n",
    "        dW1, db1, dW2, db2 = backward_prop(Z1, A1, Z2, A2, W1, W2, X, Y)\n",
    "        W1, b1, W2, b2 = update_params(W1, b1, W2, b2, dW1, db1, dW2, db2, alpha)\n",
    "        if i % 10 == 0:\n",
    "            print(\"Iteration: \", i)\n",
    "            predictions = get_predictions(A2)\n",
    "            print(get_accuracy(predictions, Y))\n",
    "    return W1, b1, W2, b2"
   ]
  },
  {
   "cell_type": "code",
   "execution_count": 7,
   "id": "9b57d12c",
   "metadata": {
    "execution": {
     "iopub.execute_input": "2023-11-12T19:15:37.556821Z",
     "iopub.status.busy": "2023-11-12T19:15:37.556448Z",
     "iopub.status.idle": "2023-11-12T19:16:44.791058Z",
     "shell.execute_reply": "2023-11-12T19:16:44.789845Z"
    },
    "papermill": {
     "duration": 67.242835,
     "end_time": "2023-11-12T19:16:44.794204",
     "exception": false,
     "start_time": "2023-11-12T19:15:37.551369",
     "status": "completed"
    },
    "tags": []
   },
   "outputs": [
    {
     "name": "stdout",
     "output_type": "stream",
     "text": [
      "Iteration:  0\n",
      "[5 5 5 ... 1 5 1] [7 9 7 ... 6 9 0]\n",
      "0.08829268292682926\n",
      "Iteration:  10\n",
      "[1 5 5 ... 1 9 1] [7 9 7 ... 6 9 0]\n",
      "0.14585365853658536\n",
      "Iteration:  20\n",
      "[1 5 9 ... 1 9 1] [7 9 7 ... 6 9 0]\n",
      "0.19317073170731708\n",
      "Iteration:  30\n",
      "[5 9 9 ... 1 9 1] [7 9 7 ... 6 9 0]\n",
      "0.22504878048780488\n",
      "Iteration:  40\n",
      "[5 9 9 ... 1 9 1] [7 9 7 ... 6 9 0]\n",
      "0.2537317073170732\n",
      "Iteration:  50\n",
      "[2 9 9 ... 1 9 7] [7 9 7 ... 6 9 0]\n",
      "0.28136585365853656\n",
      "Iteration:  60\n",
      "[2 9 9 ... 1 9 7] [7 9 7 ... 6 9 0]\n",
      "0.3047073170731707\n",
      "Iteration:  70\n",
      "[2 4 9 ... 1 9 0] [7 9 7 ... 6 9 0]\n",
      "0.3230487804878049\n",
      "Iteration:  80\n",
      "[2 4 9 ... 1 9 0] [7 9 7 ... 6 9 0]\n",
      "0.3396829268292683\n",
      "Iteration:  90\n",
      "[2 4 9 ... 6 9 0] [7 9 7 ... 6 9 0]\n",
      "0.3597560975609756\n",
      "Iteration:  100\n",
      "[4 4 9 ... 6 9 0] [7 9 7 ... 6 9 0]\n",
      "0.38702439024390245\n",
      "Iteration:  110\n",
      "[4 8 9 ... 6 9 0] [7 9 7 ... 6 9 0]\n",
      "0.4238048780487805\n",
      "Iteration:  120\n",
      "[9 8 9 ... 6 9 0] [7 9 7 ... 6 9 0]\n",
      "0.46451219512195124\n",
      "Iteration:  130\n",
      "[9 8 9 ... 6 9 0] [7 9 7 ... 6 9 0]\n",
      "0.5023414634146341\n",
      "Iteration:  140\n",
      "[9 8 7 ... 6 9 0] [7 9 7 ... 6 9 0]\n",
      "0.5434634146341464\n",
      "Iteration:  150\n",
      "[9 8 7 ... 6 9 0] [7 9 7 ... 6 9 0]\n",
      "0.5728048780487804\n",
      "Iteration:  160\n",
      "[9 8 7 ... 6 9 0] [7 9 7 ... 6 9 0]\n",
      "0.5963658536585366\n",
      "Iteration:  170\n",
      "[9 8 7 ... 6 9 0] [7 9 7 ... 6 9 0]\n",
      "0.6159268292682927\n",
      "Iteration:  180\n",
      "[9 9 7 ... 6 9 0] [7 9 7 ... 6 9 0]\n",
      "0.6343414634146342\n",
      "Iteration:  190\n",
      "[9 9 7 ... 6 9 0] [7 9 7 ... 6 9 0]\n",
      "0.6518048780487805\n",
      "Iteration:  200\n",
      "[9 9 7 ... 6 9 0] [7 9 7 ... 6 9 0]\n",
      "0.6670975609756098\n",
      "Iteration:  210\n",
      "[7 9 7 ... 6 9 0] [7 9 7 ... 6 9 0]\n",
      "0.6815121951219513\n",
      "Iteration:  220\n",
      "[7 9 7 ... 6 9 0] [7 9 7 ... 6 9 0]\n",
      "0.694780487804878\n",
      "Iteration:  230\n",
      "[7 9 7 ... 6 9 0] [7 9 7 ... 6 9 0]\n",
      "0.707\n",
      "Iteration:  240\n",
      "[7 9 7 ... 6 9 0] [7 9 7 ... 6 9 0]\n",
      "0.7187317073170731\n",
      "Iteration:  250\n",
      "[7 9 7 ... 6 9 0] [7 9 7 ... 6 9 0]\n",
      "0.7284878048780488\n",
      "Iteration:  260\n",
      "[7 9 7 ... 6 9 0] [7 9 7 ... 6 9 0]\n",
      "0.7380243902439024\n",
      "Iteration:  270\n",
      "[7 9 7 ... 6 9 0] [7 9 7 ... 6 9 0]\n",
      "0.7476585365853659\n",
      "Iteration:  280\n",
      "[7 9 7 ... 6 9 0] [7 9 7 ... 6 9 0]\n",
      "0.7554634146341463\n",
      "Iteration:  290\n",
      "[7 9 7 ... 6 9 0] [7 9 7 ... 6 9 0]\n",
      "0.7631219512195122\n",
      "Iteration:  300\n",
      "[7 9 7 ... 6 9 0] [7 9 7 ... 6 9 0]\n",
      "0.7698292682926829\n",
      "Iteration:  310\n",
      "[7 9 7 ... 6 9 0] [7 9 7 ... 6 9 0]\n",
      "0.7757804878048781\n",
      "Iteration:  320\n",
      "[7 9 7 ... 6 9 0] [7 9 7 ... 6 9 0]\n",
      "0.7821219512195122\n",
      "Iteration:  330\n",
      "[7 9 7 ... 6 9 0] [7 9 7 ... 6 9 0]\n",
      "0.7876829268292683\n",
      "Iteration:  340\n",
      "[7 9 7 ... 6 9 0] [7 9 7 ... 6 9 0]\n",
      "0.7928780487804878\n",
      "Iteration:  350\n",
      "[7 9 7 ... 6 9 7] [7 9 7 ... 6 9 0]\n",
      "0.7983414634146342\n",
      "Iteration:  360\n",
      "[7 9 7 ... 6 9 7] [7 9 7 ... 6 9 0]\n",
      "0.8027317073170732\n",
      "Iteration:  370\n",
      "[7 9 7 ... 6 9 7] [7 9 7 ... 6 9 0]\n",
      "0.8064634146341464\n",
      "Iteration:  380\n",
      "[7 9 7 ... 6 9 7] [7 9 7 ... 6 9 0]\n",
      "0.8098048780487805\n",
      "Iteration:  390\n",
      "[7 9 7 ... 6 9 7] [7 9 7 ... 6 9 0]\n",
      "0.8136097560975609\n",
      "Iteration:  400\n",
      "[7 9 7 ... 6 9 7] [7 9 7 ... 6 9 0]\n",
      "0.8165365853658536\n",
      "Iteration:  410\n",
      "[7 9 7 ... 6 9 7] [7 9 7 ... 6 9 0]\n",
      "0.8194390243902439\n",
      "Iteration:  420\n",
      "[7 9 7 ... 6 9 7] [7 9 7 ... 6 9 0]\n",
      "0.822390243902439\n",
      "Iteration:  430\n",
      "[7 9 7 ... 6 9 7] [7 9 7 ... 6 9 0]\n",
      "0.825560975609756\n",
      "Iteration:  440\n",
      "[7 9 7 ... 6 9 7] [7 9 7 ... 6 9 0]\n",
      "0.8281463414634146\n",
      "Iteration:  450\n",
      "[7 9 7 ... 6 9 7] [7 9 7 ... 6 9 0]\n",
      "0.8302926829268292\n",
      "Iteration:  460\n",
      "[7 9 7 ... 6 9 7] [7 9 7 ... 6 9 0]\n",
      "0.8321219512195122\n",
      "Iteration:  470\n",
      "[7 9 7 ... 6 9 7] [7 9 7 ... 6 9 0]\n",
      "0.834390243902439\n",
      "Iteration:  480\n",
      "[7 9 7 ... 6 9 7] [7 9 7 ... 6 9 0]\n",
      "0.8366829268292683\n",
      "Iteration:  490\n",
      "[7 9 7 ... 6 9 7] [7 9 7 ... 6 9 0]\n",
      "0.8393658536585366\n"
     ]
    }
   ],
   "source": [
    "W1, b1, W2, b2 = gradient_descent(X_train, Y_train, 0.10, 500)"
   ]
  },
  {
   "cell_type": "code",
   "execution_count": 8,
   "id": "c2ba9e3a",
   "metadata": {
    "execution": {
     "iopub.execute_input": "2023-11-12T19:16:44.832959Z",
     "iopub.status.busy": "2023-11-12T19:16:44.832431Z",
     "iopub.status.idle": "2023-11-12T19:16:44.842276Z",
     "shell.execute_reply": "2023-11-12T19:16:44.841135Z"
    },
    "papermill": {
     "duration": 0.037241,
     "end_time": "2023-11-12T19:16:44.844834",
     "exception": false,
     "start_time": "2023-11-12T19:16:44.807593",
     "status": "completed"
    },
    "tags": []
   },
   "outputs": [],
   "source": [
    "def make_predictions(X, W1, b1, W2, b2):\n",
    "    _, _, _, A2 = forward_prop(W1, b1, W2, b2, X)\n",
    "    predictions = get_predictions(A2)\n",
    "    return predictions\n",
    "\n",
    "def test_prediction(index, W1, b1, W2, b2):\n",
    "    current_image = X_train[:, index, None]\n",
    "    prediction = make_predictions(X_train[:, index, None], W1, b1, W2, b2)\n",
    "    label = Y_train[index]\n",
    "    print(\"Prediction: \", prediction)\n",
    "    print(\"Label: \", label)\n",
    "    \n",
    "    current_image = current_image.reshape((28, 28)) * 255\n",
    "    plt.gray()\n",
    "    plt.imshow(current_image, interpolation='nearest')\n",
    "    plt.show()"
   ]
  },
  {
   "cell_type": "code",
   "execution_count": 9,
   "id": "b6229312",
   "metadata": {
    "execution": {
     "iopub.execute_input": "2023-11-12T19:16:44.885104Z",
     "iopub.status.busy": "2023-11-12T19:16:44.884628Z",
     "iopub.status.idle": "2023-11-12T19:16:45.764189Z",
     "shell.execute_reply": "2023-11-12T19:16:45.763164Z"
    },
    "papermill": {
     "duration": 0.901406,
     "end_time": "2023-11-12T19:16:45.766500",
     "exception": false,
     "start_time": "2023-11-12T19:16:44.865094",
     "status": "completed"
    },
    "tags": []
   },
   "outputs": [
    {
     "name": "stdout",
     "output_type": "stream",
     "text": [
      "Prediction:  [7]\n",
      "Label:  7\n"
     ]
    },
    {
     "data": {
      "image/png": "[encoded data removed]",
      "text/plain": [
       "<Figure size 640x480 with 1 Axes>"
      ]
     },
     "metadata": {},
     "output_type": "display_data"
    },
    {
     "name": "stdout",
     "output_type": "stream",
     "text": [
      "Prediction:  [9]\n",
      "Label:  9\n"
     ]
    },
    {
     "data": {
      "image/png": "[encoded data removed]",
      "text/plain": [
       "<Figure size 640x480 with 1 Axes>"
      ]
     },
     "metadata": {},
     "output_type": "display_data"
    },
    {
     "name": "stdout",
     "output_type": "stream",
     "text": [
      "Prediction:  [7]\n",
      "Label:  7\n"
     ]
    },
    {
     "data": {
      "image/png": "[encoded data removed]",
      "text/plain": [
       "<Figure size 640x480 with 1 Axes>"
      ]
     },
     "metadata": {},
     "output_type": "display_data"
    },
    {
     "name": "stdout",
     "output_type": "stream",
     "text": [
      "Prediction:  [2]\n",
      "Label:  2\n"
     ]
    },
    {
     "data": {
      "image/png": "[encoded data removed]",
      "text/plain": [
       "<Figure size 640x480 with 1 Axes>"
      ]
     },
     "metadata": {},
     "output_type": "display_data"
    }
   ],
   "source": [
    "test_prediction(0, W1, b1, W2, b2)\n",
    "test_prediction(1, W1, b1, W2, b2)\n",
    "test_prediction(2, W1, b1, W2, b2)\n",
    "test_prediction(3, W1, b1, W2, b2)"
   ]
  },
  {
   "cell_type": "code",
   "execution_count": 10,
   "id": "1174f623",
   "metadata": {
    "execution": {
     "iopub.execute_input": "2023-11-12T19:16:45.784740Z",
     "iopub.status.busy": "2023-11-12T19:16:45.784358Z",
     "iopub.status.idle": "2023-11-12T19:16:45.804938Z",
     "shell.execute_reply": "2023-11-12T19:16:45.803662Z"
    },
    "papermill": {
     "duration": 0.034515,
     "end_time": "2023-11-12T19:16:45.809100",
     "exception": false,
     "start_time": "2023-11-12T19:16:45.774585",
     "status": "completed"
    },
    "tags": []
   },
   "outputs": [
    {
     "name": "stdout",
     "output_type": "stream",
     "text": [
      "[0 0 0 9 4 0 6 4 2 0 7 9 2 1 6 6 0 8 7 8 6 1 9 5 7 7 6 7 1 7 5 0 0 6 0 6 3\n",
      " 6 8 9 2 1 9 9 5 7 0 1 8 1 0 8 6 8 4 2 1 4 2 2 7 1 3 6 7 7 4 1 8 9 2 5 3 8\n",
      " 5 6 7 4 1 2 6 1 4 5 3 5 3 0 1 4 6 4 8 8 2 0 4 1 2 4 0 3 8 5 6 4 8 2 8 6 7\n",
      " 2 0 5 7 2 5 4 1 6 9 8 6 9 3 1 9 2 9 1 8 7 2 2 3 6 3 1 0 8 6 6 0 3 4 9 1 9\n",
      " 2 1 3 3 6 5 7 1 6 7 9 7 4 4 1 4 7 3 7 6 2 3 6 1 0 4 1 5 1 9 1 6 4 4 0 3 5\n",
      " 0 3 8 5 3 0 9 3 3 9 5 3 0 8 3 9 1 3 7 6 2 2 1 3 7 1 1 2 5 2 2 4 4 7 0 2 0\n",
      " 6 4 7 3 8 0 7 9 2 3 0 8 6 3 0 8 0 0 9 3 7 5 4 7 0 9 4 7 6 3 9 6 8 7 9 1 8\n",
      " 2 8 3 8 4 7 7 7 4 7 6 1 8 5 7 5 8 9 3 8 4 2 3 0 1 6 1 7 1 5 0 5 6 3 5 8 0\n",
      " 7 3 9 1 0 4 9 3 7 1 4 4 2 5 8 9 8 3 8 8 0 1 1 4 4 1 6 6 0 4 2 4 0 0 6 9 0\n",
      " 5 4 8 7 4 1 2 1 5 4 5 2 0 0 4 7 2 7 5 1 7 2 6 2 8 5 8 6 2 8 7 7 7 3 8 3 0\n",
      " 3 9 7 3 7 1 4 5 5 4 2 7 3 5 0 0 6 2 6 4 3 3 0 7 6 2 7 2 6 9 7 6 4 1 1 8 6\n",
      " 4 8 0 3 3 0 8 0 2 5 1 6 9 1 8 8 3 5 9 7 5 0 1 1 6 5 6 3 7 4 2 1 1 7 4 4 4\n",
      " 9 6 8 1 4 8 8 0 0 1 0 6 6 0 6 2 2 4 3 7 6 2 3 0 7 3 6 9 3 6 3 6 4 4 9 4 3\n",
      " 8 0 1 8 1 8 4 5 4 0 0 6 6 0 3 7 0 4 0 6 6 8 7 2 9 4 5 9 5 0 8 6 3 4 8 1 0\n",
      " 6 8 8 3 1 1 3 5 1 9 7 5 8 5 7 8 4 0 0 7 7 2 6 4 6 7 8 0 5 8 0 7 7 6 8 7 1\n",
      " 1 4 2 0 7 3 6 0 0 6 8 2 4 4 5 1 9 5 2 6 5 9 5 2 1 2 6 3 4 7 0 8 4 1 3 9 3\n",
      " 1 9 4 0 0 6 2 2 3 5 0 1 4 7 0 9 9 6 8 6 6 7 8 9 5 4 2 2 0 1 1 9 6 1 2 6 8\n",
      " 9 3 6 5 8 2 4 2 8 7 2 3 1 4 0 7 7 3 0 1 3 1 0 7 6 9 4 5 6 7 3 3 9 9 3 1 9\n",
      " 7 3 2 7 8 7 7 7 8 2 8 6 3 6 9 1 9 3 6 5 8 1 0 4 2 9 9 3 1 7 3 6 1 3 7 5 4\n",
      " 6 6 9 0 6 0 4 9 2 0 2 2 2 9 1 9 0 3 0 6 5 7 6 8 0 1 0 2 0 5 8 1 8 2 3 9 3\n",
      " 8 1 3 8 3 0 0 1 8 0 9 9 3 9 3 9 9 3 2 5 0 2 0 0 1 1 0 1 3 4 7 6 9 4 2 8 1\n",
      " 5 0 1 7 9 5 6 9 8 5 6 1 1 1 6 4 5 9 9 7 1 4 3 2 5 3 6 6 4 9 5 6 2 1 2 0 2\n",
      " 1 6 6 7 1 4 5 4 8 2 2 8 9 0 7 4 9 1 7 0 3 1 8 6 2 2 4 9 6 4 4 4 0 5 1 2 5\n",
      " 1 6 7 8 2 4 7 4 5 6 6 5 5 2 0 0 5 1 7 1 0 5 1 6 5 2 4 2 4 3 2 4 9 1 8 9 4\n",
      " 2 2 0 1 2 8 8 1 3 9 9 7 1 0 6 4 6 0 1 3 0 5 8 5 4 4 1 3 0 4 6 0 5 3 3 2 4\n",
      " 2 9 8 9 0 8 0 3 1 7 4 8 3 8 6 9 5 3 3 0 8 1 2 6 3 5 1 1 1 5 1 6 2 7 4 6 1\n",
      " 2 2 3 1 8 6 7 6 0 0 3 6 2 0 5 8 2 3 1 9 0 4 6 7 1 7 1 7 4 8 7 1 2 7 5 7 2\n",
      " 9] [0 0 2 9 4 0 6 4 2 2 7 9 2 1 6 4 0 8 7 8 6 1 9 5 7 7 6 9 1 7 8 0 0 6 0 6 3\n",
      " 6 8 9 2 1 9 9 5 9 0 1 8 1 0 8 6 9 4 2 1 5 2 2 7 1 3 6 9 7 4 1 8 3 3 0 3 8\n",
      " 0 6 7 4 1 6 6 1 4 5 5 5 5 0 1 4 6 4 3 8 2 5 4 1 1 4 0 3 5 3 6 4 8 2 8 6 7\n",
      " 2 0 5 7 2 5 4 1 6 9 8 6 9 3 1 9 2 5 4 8 7 2 2 3 6 3 1 0 8 6 6 0 3 4 9 1 9\n",
      " 5 7 3 5 6 6 7 1 6 7 9 9 4 9 1 4 7 5 7 6 2 3 2 1 0 4 1 8 1 9 1 6 4 4 0 8 5\n",
      " 0 3 8 5 3 0 9 3 5 7 1 3 0 8 3 9 1 9 7 6 2 2 3 3 7 1 1 2 6 4 2 4 4 7 0 5 0\n",
      " 6 4 7 8 8 0 7 9 2 3 0 8 6 3 0 5 5 0 9 3 7 8 3 7 0 5 4 7 6 3 9 6 8 7 9 1 5\n",
      " 2 8 3 8 4 7 7 4 9 7 6 1 8 8 7 5 9 9 3 9 4 5 3 0 1 2 1 3 1 5 0 8 6 3 5 8 0\n",
      " 7 3 8 1 0 4 9 3 7 1 4 4 4 5 8 9 8 3 8 8 0 1 8 4 2 1 6 6 0 4 2 4 0 0 6 3 0\n",
      " 5 9 8 7 4 1 2 1 5 4 5 2 0 0 4 7 2 9 5 1 7 1 6 2 8 5 8 6 2 1 7 7 7 3 8 3 0\n",
      " 3 9 7 3 7 2 4 0 5 4 8 7 5 5 0 0 6 2 6 2 3 3 0 7 6 2 7 2 6 9 7 6 4 1 1 2 6\n",
      " 4 8 0 3 3 0 8 0 5 5 1 6 9 1 8 8 3 5 9 2 8 0 1 1 6 5 6 3 7 4 0 1 1 7 4 4 4\n",
      " 9 6 8 1 9 0 8 0 0 1 0 6 6 0 6 2 2 4 3 7 6 2 3 0 7 3 6 9 3 6 5 6 4 4 7 9 3\n",
      " 8 0 1 8 1 4 4 5 4 0 0 6 6 0 3 7 5 4 0 6 6 8 7 2 9 4 5 9 5 0 8 6 5 4 4 1 0\n",
      " 6 8 8 3 1 1 3 5 1 9 7 5 6 5 7 8 4 5 0 7 7 2 6 4 6 7 8 0 5 8 0 7 7 6 8 7 1\n",
      " 1 4 0 0 3 3 6 0 0 6 8 2 9 4 8 1 9 5 2 2 5 9 0 2 1 2 6 1 4 3 0 8 4 1 3 9 2\n",
      " 1 7 4 0 0 6 2 3 3 5 0 1 3 7 5 9 9 6 8 6 6 7 8 9 5 4 2 2 0 1 1 9 6 1 2 6 8\n",
      " 9 3 6 8 1 2 4 3 4 7 2 3 1 4 0 7 7 3 0 1 3 7 0 7 6 9 4 5 6 7 3 3 9 9 5 1 9\n",
      " 7 3 2 7 8 7 7 7 8 2 8 6 3 6 9 1 7 3 8 3 8 1 0 4 2 7 9 3 1 7 3 6 1 3 3 5 4\n",
      " 6 6 9 0 6 0 4 9 2 0 2 2 6 9 8 5 0 3 2 6 6 7 6 8 0 1 0 5 7 5 8 1 8 2 3 8 7\n",
      " 1 1 3 8 3 2 0 1 8 0 9 4 3 9 3 4 9 3 2 5 0 2 0 0 1 1 0 1 5 4 7 6 9 4 2 8 1\n",
      " 5 6 1 7 7 5 6 9 5 5 6 1 1 1 6 4 5 7 9 7 1 4 3 2 5 3 6 6 4 9 3 6 2 1 2 0 2\n",
      " 1 0 6 7 1 4 5 4 8 2 2 8 9 0 7 4 9 1 7 0 3 1 8 6 2 2 4 9 6 4 4 4 0 5 1 2 5\n",
      " 1 6 7 8 8 4 7 4 5 6 6 5 3 2 5 0 5 1 7 1 0 5 1 6 5 2 4 4 4 3 2 4 9 1 8 9 4\n",
      " 2 2 0 1 2 8 8 1 7 9 9 9 1 0 6 4 6 0 1 5 5 0 8 5 4 9 1 3 5 4 6 6 5 3 3 2 8\n",
      " 2 9 8 9 6 8 0 2 1 7 4 8 3 8 6 9 3 3 3 0 8 1 2 6 3 5 1 2 1 5 1 4 2 7 4 6 1\n",
      " 4 2 3 1 8 6 7 8 0 5 3 6 2 0 5 8 2 3 1 9 0 4 6 7 1 7 1 7 4 8 7 1 2 7 5 9 6\n",
      " 9]\n"
     ]
    },
    {
     "data": {
      "text/plain": [
       "0.846"
      ]
     },
     "execution_count": 10,
     "metadata": {},
     "output_type": "execute_result"
    }
   ],
   "source": [
    "dev_predictions = make_predictions(X_dev, W1, b1, W2, b2)\n",
    "get_accuracy(dev_predictions, Y_dev)"
   ]
  },
  {
   "cell_type": "code",
   "execution_count": null,
   "id": "64246f40",
   "metadata": {
    "papermill": {
     "duration": 0.013756,
     "end_time": "2023-11-12T19:16:45.837011",
     "exception": false,
     "start_time": "2023-11-12T19:16:45.823255",
     "status": "completed"
    },
    "tags": []
   },
   "outputs": [],
   "source": []
  }
 ],
 "metadata": {
  "kernelspec": {
   "display_name": "Python 3",
   "language": "python",
   "name": "python3"
  },
  "language_info": {
   "codemirror_mode": {
    "name": "ipython",
    "version": 3
   },
   "file_extension": ".py",
   "mimetype": "text/x-python",
   "name": "python",
   "nbconvert_exporter": "python",
   "pygments_lexer": "ipython3",
   "version": "3.10.12"
  },
  "papermill": {
   "default_parameters": {},
   "duration": 76.57296,
   "end_time": "2023-11-12T19:16:46.376158",
   "environment_variables": {},
   "exception": null,
   "input_path": "__notebook__.ipynb",
   "output_path": "__notebook__.ipynb",
   "parameters": {},
   "start_time": "2023-11-12T19:15:29.803198",
   "version": "2.4.0"
  }
 },
 "nbformat": 4,
 "nbformat_minor": 5
}
